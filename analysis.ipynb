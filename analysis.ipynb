{
 "cells": [
  {
   "cell_type": "code",
   "execution_count": null,
   "metadata": {},
   "outputs": [
    {
     "name": "stderr",
     "output_type": "stream",
     "text": [
      "c:\\Users\\rohan\\222Proj\\utils.py:5: UserWarning: Could not infer format, so each element will be parsed individually, falling back to `dateutil`. To ensure parsing is consistent and as-expected, please specify a format.\n",
      "  df['Date'] = pd.to_datetime(df['Date'], errors='coerce')\n"
     ]
    },
    {
     "data": {
      "text/html": [
       "<div>\n",
       "<style scoped>\n",
       "    .dataframe tbody tr th:only-of-type {\n",
       "        vertical-align: middle;\n",
       "    }\n",
       "\n",
       "    .dataframe tbody tr th {\n",
       "        vertical-align: top;\n",
       "    }\n",
       "\n",
       "    .dataframe thead th {\n",
       "        text-align: right;\n",
       "    }\n",
       "</style>\n",
       "<table border=\"1\" class=\"dataframe\">\n",
       "  <thead>\n",
       "    <tr style=\"text-align: right;\">\n",
       "      <th></th>\n",
       "      <th>Title</th>\n",
       "      <th>Date</th>\n",
       "      <th>Type</th>\n",
       "      <th>Series Name</th>\n",
       "      <th>Season and Episode</th>\n",
       "      <th>Watch Year</th>\n",
       "    </tr>\n",
       "  </thead>\n",
       "  <tbody>\n",
       "    <tr>\n",
       "      <th>0</th>\n",
       "      <td>Breaking Bad: Season 1: Pilot</td>\n",
       "      <td>2025-04-18</td>\n",
       "      <td>Show</td>\n",
       "      <td>Breaking Bad</td>\n",
       "      <td>Season 1, Episode: Pilot</td>\n",
       "      <td>2025</td>\n",
       "    </tr>\n",
       "    <tr>\n",
       "      <th>1</th>\n",
       "      <td>Meet the Parents</td>\n",
       "      <td>2025-04-17</td>\n",
       "      <td>Movie</td>\n",
       "      <td>N/A</td>\n",
       "      <td>N/A</td>\n",
       "      <td>2025</td>\n",
       "    </tr>\n",
       "    <tr>\n",
       "      <th>2</th>\n",
       "      <td>Meet the Fockers</td>\n",
       "      <td>2025-04-16</td>\n",
       "      <td>Movie</td>\n",
       "      <td>N/A</td>\n",
       "      <td>N/A</td>\n",
       "      <td>2025</td>\n",
       "    </tr>\n",
       "    <tr>\n",
       "      <th>3</th>\n",
       "      <td>Suits: Season 1: Play the Man</td>\n",
       "      <td>2025-04-09</td>\n",
       "      <td>Show</td>\n",
       "      <td>Suits</td>\n",
       "      <td>Season 1, Episode: Play the Man</td>\n",
       "      <td>2025</td>\n",
       "    </tr>\n",
       "    <tr>\n",
       "      <th>4</th>\n",
       "      <td>Suits: Season 1: Tricks of the Trade</td>\n",
       "      <td>2025-04-09</td>\n",
       "      <td>Show</td>\n",
       "      <td>Suits</td>\n",
       "      <td>Season 1, Episode: Tricks of the Trade</td>\n",
       "      <td>2025</td>\n",
       "    </tr>\n",
       "  </tbody>\n",
       "</table>\n",
       "</div>"
      ],
      "text/plain": [
       "                                  Title       Date   Type   Series Name  \\\n",
       "0         Breaking Bad: Season 1: Pilot 2025-04-18   Show  Breaking Bad   \n",
       "1                      Meet the Parents 2025-04-17  Movie           N/A   \n",
       "2                      Meet the Fockers 2025-04-16  Movie           N/A   \n",
       "3         Suits: Season 1: Play the Man 2025-04-09   Show         Suits   \n",
       "4  Suits: Season 1: Tricks of the Trade 2025-04-09   Show         Suits   \n",
       "\n",
       "                       Season and Episode  Watch Year  \n",
       "0                Season 1, Episode: Pilot        2025  \n",
       "1                                     N/A        2025  \n",
       "2                                     N/A        2025  \n",
       "3         Season 1, Episode: Play the Man        2025  \n",
       "4  Season 1, Episode: Tricks of the Trade        2025  "
      ]
     },
     "execution_count": 29,
     "metadata": {},
     "output_type": "execute_result"
    }
   ],
   "source": [
    "import pandas as pd\n",
    "import utils\n",
    "\n",
    "isaac_df = pd.read_csv(\"IsaacNetflixHistory.csv\")\n",
    "isaac_df = utils.clean_enriched_netflix_data(isaac_df)\n",
    "isaac_df.head()\n",
    "\n"
   ]
  },
  {
   "cell_type": "code",
   "execution_count": null,
   "metadata": {},
   "outputs": [
    {
     "data": {
      "text/html": [
       "<div>\n",
       "<style scoped>\n",
       "    .dataframe tbody tr th:only-of-type {\n",
       "        vertical-align: middle;\n",
       "    }\n",
       "\n",
       "    .dataframe tbody tr th {\n",
       "        vertical-align: top;\n",
       "    }\n",
       "\n",
       "    .dataframe thead th {\n",
       "        text-align: right;\n",
       "    }\n",
       "</style>\n",
       "<table border=\"1\" class=\"dataframe\">\n",
       "  <thead>\n",
       "    <tr style=\"text-align: right;\">\n",
       "      <th></th>\n",
       "      <th>Title</th>\n",
       "      <th>Date</th>\n",
       "      <th>Type</th>\n",
       "      <th>Series Name</th>\n",
       "      <th>Season and Episode</th>\n",
       "      <th>Watch Year</th>\n",
       "    </tr>\n",
       "  </thead>\n",
       "  <tbody>\n",
       "    <tr>\n",
       "      <th>0</th>\n",
       "      <td>High-Rise Invasion: I'm Sorry, Mayuko Nise</td>\n",
       "      <td>2025-02-11</td>\n",
       "      <td>Show</td>\n",
       "      <td>High-Rise Invasion</td>\n",
       "      <td>I'm Sorry, Mayuko Nise</td>\n",
       "      <td>2025</td>\n",
       "    </tr>\n",
       "    <tr>\n",
       "      <th>1</th>\n",
       "      <td>High-Rise Invasion: I've Found a New Goal</td>\n",
       "      <td>2025-02-11</td>\n",
       "      <td>Show</td>\n",
       "      <td>High-Rise Invasion</td>\n",
       "      <td>I've Found a New Goal</td>\n",
       "      <td>2025</td>\n",
       "    </tr>\n",
       "    <tr>\n",
       "      <th>2</th>\n",
       "      <td>Suits: Season 1: Identity Crisis</td>\n",
       "      <td>2025-02-11</td>\n",
       "      <td>Show</td>\n",
       "      <td>Suits</td>\n",
       "      <td>Season 1: Identity Crisis</td>\n",
       "      <td>2025</td>\n",
       "    </tr>\n",
       "    <tr>\n",
       "      <th>3</th>\n",
       "      <td>Suits: Season 1: Play the Man</td>\n",
       "      <td>2025-02-11</td>\n",
       "      <td>Show</td>\n",
       "      <td>Suits</td>\n",
       "      <td>Season 1: Play the Man</td>\n",
       "      <td>2025</td>\n",
       "    </tr>\n",
       "    <tr>\n",
       "      <th>4</th>\n",
       "      <td>The Night Agent: Season 2: Disconnected</td>\n",
       "      <td>2025-02-11</td>\n",
       "      <td>Show</td>\n",
       "      <td>The Night Agent</td>\n",
       "      <td>Season 2: Disconnected</td>\n",
       "      <td>2025</td>\n",
       "    </tr>\n",
       "  </tbody>\n",
       "</table>\n",
       "</div>"
      ],
      "text/plain": [
       "                                        Title       Date  Type  \\\n",
       "0  High-Rise Invasion: I'm Sorry, Mayuko Nise 2025-02-11  Show   \n",
       "1   High-Rise Invasion: I've Found a New Goal 2025-02-11  Show   \n",
       "2            Suits: Season 1: Identity Crisis 2025-02-11  Show   \n",
       "3               Suits: Season 1: Play the Man 2025-02-11  Show   \n",
       "4     The Night Agent: Season 2: Disconnected 2025-02-11  Show   \n",
       "\n",
       "          Series Name         Season and Episode  Watch Year  \n",
       "0  High-Rise Invasion     I'm Sorry, Mayuko Nise        2025  \n",
       "1  High-Rise Invasion      I've Found a New Goal        2025  \n",
       "2               Suits  Season 1: Identity Crisis        2025  \n",
       "3               Suits     Season 1: Play the Man        2025  \n",
       "4     The Night Agent     Season 2: Disconnected        2025  "
      ]
     },
     "execution_count": 30,
     "metadata": {},
     "output_type": "execute_result"
    }
   ],
   "source": [
    "import pandas as pd\n",
    "import utils\n",
    "\n",
    "rohan_df = pd.read_csv(\"RohanNetflixHistory.csv\")\n",
    "rohan_df = utils.clean_enriched_netflix_data(rohan_df)\n",
    "rohan_df.head()\n"
   ]
  },
  {
   "cell_type": "code",
   "execution_count": null,
   "metadata": {},
   "outputs": [
    {
     "data": {
      "image/png": "[encoded data removed]",
      "text/plain": [
       "<Figure size 640x480 with 1 Axes>"
      ]
     },
     "metadata": {},
     "output_type": "display_data"
    },
    {
     "data": {
      "image/png": "[encoded data removed]",
      "text/plain": [
       "<Figure size 640x480 with 1 Axes>"
      ]
     },
     "metadata": {},
     "output_type": "display_data"
    }
   ],
   "source": [
    "import matplotlib.pyplot as plt\n",
    "\n",
    "# Isaac's top 5 shows (exclude movies)\n",
    "isaac_shows = isaac_df[isaac_df['Type'] == 'Show']\n",
    "isaac_shows['Series Name'].value_counts().head(5).plot(kind='barh')\n",
    "plt.title(\"Isaac's Top 5 Watched Shows (Excludes Movies)\")\n",
    "plt.xlabel('Views')\n",
    "plt.ylabel('Series Name')\n",
    "plt.show()\n",
    "\n",
    "rohan_shows = rohan_df[rohan_df['Type'] == 'Show']\n",
    "rohan_shows['Series Name'].value_counts().head(5).plot(kind='barh')\n",
    "plt.title(\"Rohan's Top 5 Watched Shows (Excludes Movies)\")\n",
    "plt.xlabel('Views')\n",
    "plt.ylabel('Series Name')\n",
    "plt.show()\n",
    "\n"
   ]
  },
  {
   "cell_type": "code",
   "execution_count": 31,
   "metadata": {},
   "outputs": [
    {
     "name": "stdout",
     "output_type": "stream",
     "text": [
      "0      1\n",
      "1      0\n",
      "2      0\n",
      "3      1\n",
      "4      1\n",
      "      ..\n",
      "207    1\n",
      "208    1\n",
      "209    0\n",
      "210    0\n",
      "211    0\n",
      "Name: Type, Length: 212, dtype: int64\n",
      "T-statistic: -3.308\n",
      "P-value: 0.0010\n",
      "Fail to reject H0: Not enough evidence that Isaac watches more shows than Rohan.\n"
     ]
    }
   ],
   "source": [
    "from scipy.stats import ttest_ind\n",
    "\n",
    "isaac_binary = (isaac_df['Type'] == 'Show').astype(int)\n",
    "print(isaac_binary)\n",
    "rohan_binary = (rohan_df['Type'] == 'Show').astype(int)\n",
    "t_stat, p_value = ttest_ind(isaac_binary, rohan_binary, equal_var=False)\n",
    "\n",
    "print(f\"T-statistic: {t_stat:.3f}\")\n",
    "print(f\"P-value: {p_value:.4f}\")\n",
    "\n",
    "alpha = 0.05\n",
    "if (t_stat > 0) and (p_value / 2 < alpha):\n",
    "    print(\"Reject H0: Isaac watches more shows (proportionally) than Rohan.\")\n",
    "else:\n",
    "    print(\"Fail to reject H0: Not enough evidence that Isaac watches more shows than Rohan.\")\n",
    "\n"
   ]
  },
  {
   "cell_type": "code",
   "execution_count": null,
   "metadata": {},
   "outputs": [],
   "source": []
  }
 ],
 "metadata": {
  "kernelspec": {
   "display_name": "Python 3",
   "language": "python",
   "name": "python3"
  },
  "language_info": {
   "codemirror_mode": {
    "name": "ipython",
    "version": 3
   },
   "file_extension": ".py",
   "mimetype": "text/x-python",
   "name": "python",
   "nbconvert_exporter": "python",
   "pygments_lexer": "ipython3",
   "version": "3.12.6"
  }
 },
 "nbformat": 4,
 "nbformat_minor": 2
}
